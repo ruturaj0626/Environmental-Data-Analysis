{
 "cells": [
  {
   "cell_type": "markdown",
   "metadata": {
    "id": "JFZls3YYdxcb"
   },
   "source": [
    "# Loading Data"
   ]
  },
  {
   "cell_type": "code",
   "execution_count": null,
   "metadata": {
    "execution": {
     "iopub.execute_input": "2023-09-07T11:36:05.012967Z",
     "iopub.status.busy": "2023-09-07T11:36:05.012689Z",
     "iopub.status.idle": "2023-09-07T11:36:10.567401Z",
     "shell.execute_reply": "2023-09-07T11:36:10.566190Z",
     "shell.execute_reply.started": "2023-09-07T11:36:05.012940Z"
    },
    "id": "Hhf8HwJ5dpjE"
   },
   "outputs": [],
   "source": [
    "# import libraries\n",
    "import numpy as np\n",
    "import pandas as pd\n",
    "import matplotlib.pyplot as plt\n",
    "import seaborn as sns\n",
    "from prettytable import PrettyTable\n",
    "import geopandas as gpd\n",
    "import matplotlib\n",
    "import folium\n",
    "from sklearn.preprocessing import MinMaxScaler\n",
    "from sklearn.model_selection import train_test_split ,LeaveOneGroupOut\n",
    "from sklearn.ensemble import RandomForestRegressor\n",
    "from sklearn.tree import DecisionTreeRegressor\n",
    "from xgboost import XGBRegressor\n",
    "from lightgbm import LGBMRegressor as lgbm\n",
    "from sklearn.metrics import mean_squared_error ,accuracy_score"
   ]
  },
  {
   "cell_type": "code",
   "execution_count": null,
   "metadata": {
    "execution": {
     "iopub.execute_input": "2023-09-07T11:36:10.572013Z",
     "iopub.status.busy": "2023-09-07T11:36:10.571675Z",
     "iopub.status.idle": "2023-09-07T11:36:13.457203Z",
     "shell.execute_reply": "2023-09-07T11:36:13.456200Z",
     "shell.execute_reply.started": "2023-09-07T11:36:10.571985Z"
    },
    "id": "wBwbNbzSdrnv"
   },
   "outputs": [],
   "source": [
    "# read data\n",
    "train_data = pd.read_csv('/kaggle/input/playground-series-s3e20/train.csv')\n",
    "test_data = pd.read_csv('/kaggle/input/playground-series-s3e20/test.csv')"
   ]
  },
  {
   "cell_type": "code",
   "execution_count": null,
   "metadata": {
    "execution": {
     "iopub.execute_input": "2023-09-07T11:36:13.459124Z",
     "iopub.status.busy": "2023-09-07T11:36:13.458769Z",
     "iopub.status.idle": "2023-09-07T11:36:13.489218Z",
     "shell.execute_reply": "2023-09-07T11:36:13.488310Z",
     "shell.execute_reply.started": "2023-09-07T11:36:13.459092Z"
    },
    "id": "Td8F-zFsgFFa",
    "outputId": "3e9aa1b4-8ad6-4452-a2af-153b6a7d493b"
   },
   "outputs": [],
   "source": [
    "# show a sample of train_data\n",
    "print(train_data.head())\n",
    "\n",
    "# show a sample of test_data\n",
    "print(test_data.tail())"
   ]
  },
  {
   "cell_type": "code",
   "execution_count": null,
   "metadata": {
    "execution": {
     "iopub.execute_input": "2023-09-07T11:36:13.492796Z",
     "iopub.status.busy": "2023-09-07T11:36:13.491758Z",
     "iopub.status.idle": "2023-09-07T11:36:13.500964Z",
     "shell.execute_reply": "2023-09-07T11:36:13.499887Z",
     "shell.execute_reply.started": "2023-09-07T11:36:13.492760Z"
    },
    "id": "z2BYd_HAdrk2",
    "outputId": "c835df0a-6bde-473e-90ac-a0722cdde383"
   },
   "outputs": [],
   "source": [
    "# show column\n",
    "train_data.columns"
   ]
  },
  {
   "cell_type": "code",
   "execution_count": null,
   "metadata": {
    "execution": {
     "iopub.execute_input": "2023-09-07T11:36:13.503482Z",
     "iopub.status.busy": "2023-09-07T11:36:13.502643Z",
     "iopub.status.idle": "2023-09-07T11:36:13.512932Z",
     "shell.execute_reply": "2023-09-07T11:36:13.511900Z",
     "shell.execute_reply.started": "2023-09-07T11:36:13.503459Z"
    },
    "id": "9IX94VgOdrh_",
    "outputId": "e01b605a-a2e6-4bfd-c286-1b9ac49e6928"
   },
   "outputs": [],
   "source": [
    "# train_data shape\n",
    "print(train_data.shape)\n",
    "\n",
    "# test_data shape\n",
    "print(test_data.shape)"
   ]
  },
  {
   "cell_type": "code",
   "execution_count": null,
   "metadata": {
    "execution": {
     "iopub.execute_input": "2023-09-07T11:36:13.515627Z",
     "iopub.status.busy": "2023-09-07T11:36:13.514916Z",
     "iopub.status.idle": "2023-09-07T11:36:13.586893Z",
     "shell.execute_reply": "2023-09-07T11:36:13.585892Z",
     "shell.execute_reply.started": "2023-09-07T11:36:13.515596Z"
    },
    "id": "QIm9ik5WiPib",
    "outputId": "2e096477-fc32-456c-fa70-54540c1150ea"
   },
   "outputs": [],
   "source": [
    "# train_dta info\n",
    "print(train_data.info())\n",
    "\n",
    "# test_data info\n",
    "print(test_data.info())"
   ]
  },
  {
   "cell_type": "code",
   "execution_count": null,
   "metadata": {
    "execution": {
     "iopub.execute_input": "2023-09-07T11:36:13.588841Z",
     "iopub.status.busy": "2023-09-07T11:36:13.588487Z",
     "iopub.status.idle": "2023-09-07T11:36:14.004703Z",
     "shell.execute_reply": "2023-09-07T11:36:14.003627Z",
     "shell.execute_reply.started": "2023-09-07T11:36:13.588796Z"
    },
    "id": "8XBFbitkAEKw",
    "outputId": "b423c598-3e63-4354-e005-e14ad22b138f"
   },
   "outputs": [],
   "source": [
    "# data description\n",
    "train_data.describe()"
   ]
  },
  {
   "cell_type": "code",
   "execution_count": null,
   "metadata": {
    "execution": {
     "iopub.execute_input": "2023-09-07T11:36:14.006806Z",
     "iopub.status.busy": "2023-09-07T11:36:14.006445Z",
     "iopub.status.idle": "2023-09-07T11:36:14.310077Z",
     "shell.execute_reply": "2023-09-07T11:36:14.308906Z",
     "shell.execute_reply.started": "2023-09-07T11:36:14.006772Z"
    },
    "id": "EpE9_WuNAEqS",
    "outputId": "327224cb-be86-4006-ce39-ee2043b2b5ab"
   },
   "outputs": [],
   "source": [
    "test_data.describe()"
   ]
  },
  {
   "cell_type": "code",
   "execution_count": null,
   "metadata": {
    "execution": {
     "iopub.execute_input": "2023-09-07T11:36:14.313886Z",
     "iopub.status.busy": "2023-09-07T11:36:14.313052Z",
     "iopub.status.idle": "2023-09-07T11:36:14.404477Z",
     "shell.execute_reply": "2023-09-07T11:36:14.403449Z",
     "shell.execute_reply.started": "2023-09-07T11:36:14.313824Z"
    },
    "id": "lv0jPHH3drfL",
    "outputId": "7b52de0d-1648-46d8-ca91-e62cf2876e4a"
   },
   "outputs": [],
   "source": [
    "# Data important info\n",
    "data_table = PrettyTable()\n",
    "data_table.field_names = ['Label','Data Shape' ,'N_nulls','N_nonNulls','Data Size']\n",
    "data_table.add_row(['Train Data' , train_data.shape , train_data.isna().sum().sum(),train_data.shape[0] - train_data.isna().sum().sum()\n",
    ", train_data.size])\n",
    "data_table.add_row(['--------------','--------------','--------------','--------------','--------------'])\n",
    "data_table.add_row(['Test Data' , test_data.shape , test_data.isna().sum().sum() ,test_data.shape[0] - test_data.isna().sum().sum()\n",
    ", test_data.size])\n",
    "print(data_table)"
   ]
  },
  {
   "cell_type": "code",
   "execution_count": null,
   "metadata": {
    "execution": {
     "iopub.execute_input": "2023-09-07T11:36:14.409303Z",
     "iopub.status.busy": "2023-09-07T11:36:14.409023Z",
     "iopub.status.idle": "2023-09-07T11:36:14.434453Z",
     "shell.execute_reply": "2023-09-07T11:36:14.433438Z",
     "shell.execute_reply.started": "2023-09-07T11:36:14.409280Z"
    },
    "id": "RIf8kJa2drSg",
    "outputId": "aa135847-f41e-4b61-9816-23b659094bdf"
   },
   "outputs": [],
   "source": [
    "columns_description_table  = PrettyTable()\n",
    "print('Note that`s main columns features that has been metioned in dataset')\n",
    "columns_description_table.field_names = ['Column Name' , 'Description']\n",
    "columns_description_table.add_row(['Sulfur dioxide (SO2)',\n",
    "'Sulfur dioxide (SO2) enters the Earth\\'s atmosphere through both natural and anthropogenic processes.\\n It plays a role in chemistry on a local and global scale and its impact ranges from short-term pollution to effects on climate.\\n Only about 30% of the emitted SO2 comes from natural sources; the majority is of anthropogenic origin.\\n SO2 emissions adversely affect human health and air quality.\\n SO2 has an effect on climate through radiative forcing, via the formation of sulfate aerosols.\\n Volcanic SO2 emissions can also pose a threat to aviation, along with volcanic ash.\\n S5P/TROPOMI samples the Earth\\'s surface with a revisit time of one day with unprecedented spatial resolution of 3.5 x 7 km which allows the resolution of fine details including the detection of much smaller SO2 plumes.'])\n",
    "columns_description_table.add_row(['---------------------------------------------------------------------------','---------------------------------------------------------------------------------------------------------------------------------------------------------------------------------------------------------------------------------------------------------------------------------------------------------------------------------'])\n",
    "columns_description_table.add_row(['Carbon monoxide (CO)',\n",
    "'Carbon monoxide (CO) is an important atmospheric trace gas for understanding tropospheric chemistry.\\n In certain urban areas, it is a major atmospheric pollutant.\\n Main sources of CO are combustion of fossil fuels, biomass burning, and atmospheric oxidation of methane and other hydrocarbons.\\n Whereas fossil fuel combustion is the main source of CO at northern mid-latitudes, the oxidation of isoprene and biomass burning play an important role in the tropics.\\n TROPOMI on the Sentinel 5 Precursor (S5P) satellite observes the CO global abundance exploiting clear-sky and cloudy-sky Earth radiance measurements in the 2.3 μm spectral range of the shortwave infrared (SWIR) part of the solar spectrum.\\n TROPOMI clear sky observations provide CO total columns with sensitivity to the tropospheric boundary layer.\\n For cloudy atmospheres, the column sensitivity changes according to the light path.'])\n",
    "columns_description_table.add_row(['---------------------------------------------------------------------------','---------------------------------------------------------------------------------------------------------------------------------------------------------------------------------------------------------------------------------------------------------------------------------------------------------------------------------'])\n",
    "columns_description_table.add_row(['Nitrogen oxides (NO2 and NO)',\n",
    "'Nitrogen oxides (NO2 and NO) are important trace gases in the Earth\\'s atmosphere, present in both the troposphere and the stratosphere.\\n They enter the atmosphere as a result of anthropogenic activities (notably fossil fuel combustion and biomass burning) and natural processes (wildfires, lightning, and microbiological processes in soils).\\n Here, NO2 is used to represent concentrations of collective nitrogen oxides because during daytime, i.e. in the presence of sunlight, a photochemical cycle involving ozone (O3) converts NO into NO2 and vice versa on a timescale of minutes.\\n The TROPOMI NO2 processing system is based on the algorithm developments for the DOMINO-2 product and for the EU QA4ECV NO2 reprocessed dataset for OMI, and has been adapted for TROPOMI.\\n This retrieval-assimilation-modelling system uses the 3-dimensional global TM5-MP chemistry transport model at a resolution of 1x1 degree as an essential element'])\n",
    "columns_description_table.add_row(['---------------------------------------------------------------------------','---------------------------------------------------------------------------------------------------------------------------------------------------------------------------------------------------------------------------------------------------------------------------------------------------------------------------------'])\n",
    "columns_description_table.add_row(['Formaldehyde',\n",
    "'Formaldehyde is an intermediate gas in almost all oxidation chains of non-methane volatile organic compounds (NMVOC), leading eventually to CO2.\\n Non-Methane Volatile Organic Compounds (NMVOCs) are, together with NOx, CO and CH4, among the most important precursors of tropospheric O3.\\n The major HCHO source in the remote atmosphere is CH4 oxidation. Over the continents, the oxidation of higher NMVOCs emitted from vegetation, fires, traffic and industrial sources results in important and localized enhancements of the HCHO levels.\\n The seasonal and inter-annual variations of the formaldehyde distribution are principally related to temperature changes and fire events, but also to changes in anthropogenic activities.\\n HCHO concentrations in the boundary layer can be directly related to the release of short-lived hydrocarbons, which mostly cannot be observed directly from space.'])\n",
    "columns_description_table.add_row(['---------------------------------------------------------------------------','---------------------------------------------------------------------------------------------------------------------------------------------------------------------------------------------------------------------------------------------------------------------------------------------------------------------------------'])\n",
    "columns_description_table.add_row(['UV Aerosol Index (UVAI) , Absorbing Aerosol Index (AAI)',\n",
    "'The AAI is based on wavelength-dependent changes in Rayleigh scattering in the UV spectral range for a pair of wavelengths.\\n The difference between observed and modelled reflectance results in the AAI.\\n When the AAI is positive, it indicates the presence of UV-absorbing aerosols like dust and smoke.\\n It is useful for tracking the evolution of episodic aerosol plumes from dust outbreaks, volcanic ash, and biomass burning.The wavelengths used have very low ozone absorption, so unlike aerosol optical thickness measurements, AAI can be calculated in the presence of clouds.\\n Daily global coverage is therefore possible.'])\n",
    "columns_description_table.add_row(['---------------------------------------------------------------------------','---------------------------------------------------------------------------------------------------------------------------------------------------------------------------------------------------------------------------------------------------------------------------------------------------------------------------------'])\n",
    "columns_description_table.add_row(['Ozone',\n",
    "'In the stratosphere, the ozone layer shields the biosphere from dangerous solar ultraviolet radiation.\\n In the troposphere, it acts as an efficient cleansing agent, but at high concentration it also becomes harmful to the health of humans, animals, and vegetation.\\n Ozone is also an important greenhouse-gas contributor to ongoing climate change.\\n Since the discovery of the Antarctic ozone hole in the 1980s and the subsequent Montreal Protocol regulating the production of chlorine-containing ozone-depleting substances, ozone has been routinely monitored from the ground and from space.\\nFor this product, there are two algorithms that deliver total ozone: GDP for the near real-time and GODFIT for the offline products.\\n GDP is currently being used for generating the operational total ozone products from GOME, SCIAMACHY and GOME-2; while GODFIT is being used in the ESA CCI and the Copernicus C3S projects.'])\n",
    "columns_description_table.add_row(['---------------------------------------------------------------------------','---------------------------------------------------------------------------------------------------------------------------------------------------------------------------------------------------------------------------------------------------------------------------------------------------------------------------------'])\n",
    "columns_description_table.add_row(['Cloud',\n",
    "'The TROPOMI/S5P cloud properties retrieval is based on the OCRA and ROCINN algorithms currently being used in the operational GOME and GOME-2 products.\\n OCRA retrieves the cloud fraction using measurements in the UV/VIS spectral regions and ROCINN retrieves the cloud height (pressure) and optical thickness (albedo) using measurements in and around the oxygen A-band at 760 nm.\\n Version 3.0 of the algorithms are used, which are based on a more realistic treatment of clouds as optically uniform layers of light-scattering particles.\\n Additionally, the cloud parameters are also provided for a cloud model which assumes the cloud to be a Lambertian reflecting boundary.'])\n",
    "print(columns_description_table)"
   ]
  },
  {
   "cell_type": "markdown",
   "metadata": {
    "id": "MsVf9OhLuC5k"
   },
   "source": [
    "# EDA"
   ]
  },
  {
   "cell_type": "code",
   "execution_count": null,
   "metadata": {
    "execution": {
     "iopub.execute_input": "2023-09-07T11:36:14.437818Z",
     "iopub.status.busy": "2023-09-07T11:36:14.435957Z",
     "iopub.status.idle": "2023-09-07T11:38:13.146463Z",
     "shell.execute_reply": "2023-09-07T11:38:13.145225Z",
     "shell.execute_reply.started": "2023-09-07T11:36:14.437794Z"
    },
    "id": "UGVL4SDwdrQA"
   },
   "outputs": [],
   "source": [
    "# Visualize data distribution\n",
    "fig , axs  = plt.subplots(5,15, figsize = (300,100))\n",
    "plt.suptitle(f'Data Numerical Distribution', ha = 'center' , fontweight = 'bold' ,fontsize = 100)\n",
    "for i in range((5*15)-1):\n",
    "  plt.subplot(5,15,i+1)\n",
    "  sns.histplot(train_data.iloc[:,i+1] , color = 'green' , kde = True )\n",
    "  sns.histplot(test_data.iloc[:,i+1] , color = 'orange' , kde = True )\n",
    "plt.tight_layout()\n"
   ]
  },
  {
   "cell_type": "code",
   "execution_count": null,
   "metadata": {
    "execution": {
     "iopub.execute_input": "2023-09-07T11:38:13.148416Z",
     "iopub.status.busy": "2023-09-07T11:38:13.147902Z",
     "iopub.status.idle": "2023-09-07T11:38:13.167893Z",
     "shell.execute_reply": "2023-09-07T11:38:13.166457Z",
     "shell.execute_reply.started": "2023-09-07T11:38:13.148375Z"
    },
    "id": "mhhwnpOwdrHQ",
    "outputId": "e3030505-e52d-4430-cd6e-cd7f63d5caca"
   },
   "outputs": [],
   "source": [
    "\"\"\" \n",
    "# data correlation\n",
    "columns = train_data.columns[1:]\n",
    "for i in range(15):\n",
    "  for j in range(15):\n",
    "    plt.figure(figsize = (15,15))\n",
    "    train_arr = np.triu(np.ones_like(train_data.corr().iloc[i*5:(i+1)*5,j*5:(j+1)*5], dtype=bool))\n",
    "    sns.heatmap(train_data.corr().iloc[i*5:(i+1)*5,j*5:(j+1)*5] , mask  = train_arr, annot = True , cmap = 'hot' ,xticklabels = columns[i*5:(i+1)*5] ,\n",
    "              yticklabels = columns[j*5:(j+1)*5] )\n",
    "  plt.tight_layout()\n",
    "\n",
    "\"\"\""
   ]
  },
  {
   "cell_type": "code",
   "execution_count": null,
   "metadata": {
    "execution": {
     "iopub.execute_input": "2023-09-07T11:38:13.171076Z",
     "iopub.status.busy": "2023-09-07T11:38:13.170210Z",
     "iopub.status.idle": "2023-09-07T11:39:03.378336Z",
     "shell.execute_reply": "2023-09-07T11:39:03.377217Z",
     "shell.execute_reply.started": "2023-09-07T11:38:13.171034Z"
    },
    "id": "oufGJA5Odq9E"
   },
   "outputs": [],
   "source": [
    "# relation of target with features\n",
    "fig = plt.figure(figsize = (100,300))\n",
    "for i in range(1,train_data.shape[1]-1):\n",
    "  fig.add_subplot(15,5,i)\n",
    "  sns.scatterplot(train_data , x  = train_data.iloc[:,i] , y = 'emission' , alpha = 0.2 ,color = 'green' )"
   ]
  },
  {
   "cell_type": "code",
   "execution_count": null,
   "metadata": {
    "execution": {
     "iopub.execute_input": "2023-09-07T11:39:03.384091Z",
     "iopub.status.busy": "2023-09-07T11:39:03.379738Z",
     "iopub.status.idle": "2023-09-07T11:39:03.783384Z",
     "shell.execute_reply": "2023-09-07T11:39:03.781988Z",
     "shell.execute_reply.started": "2023-09-07T11:39:03.384054Z"
    },
    "id": "OFCCRHM6dq5L"
   },
   "outputs": [],
   "source": [
    "# show different null\n",
    "plt.suptitle('Number of Nulls and Not nulls in Data')\n",
    "plt.subplot(1,2,1)\n",
    "plt.title('Train Data')\n",
    "plt.pie(x = [train_data.isna().sum().sum(),train_data.shape[0]*len(train_data.columns)] , labels = ['null' , 'Not_null'] , autopct = '%0.2f%%')\n",
    "plt.subplot(1,2,2)\n",
    "plt.title('Test Data')\n",
    "plt.pie(x = [test_data.isna().sum().sum(),train_data.shape[0]*len(test_data.columns)] , labels = ['null' , 'Not_null'] , autopct = '%0.2f%%')"
   ]
  },
  {
   "cell_type": "code",
   "execution_count": null,
   "metadata": {
    "execution": {
     "iopub.execute_input": "2023-09-07T11:39:03.785800Z",
     "iopub.status.busy": "2023-09-07T11:39:03.785143Z",
     "iopub.status.idle": "2023-09-07T11:39:55.980774Z",
     "shell.execute_reply": "2023-09-07T11:39:55.979883Z",
     "shell.execute_reply.started": "2023-09-07T11:39:03.785755Z"
    },
    "id": "ACacIbUQdq2T"
   },
   "outputs": [],
   "source": [
    "# pct of each element in train_data\n",
    "columns_have_nulls  = []\n",
    "fig = plt.figure(figsize = (200,100))\n",
    "plt.suptitle('Different Feature with null values\\n\\n\\n' , ha = 'center' , fontsize = 100 , fontweight = 'bold')\n",
    "for i in range(len(train_data.columns)):\n",
    "  if(train_data.isna().sum()[i]!= 0):columns_have_nulls.append(train_data.columns[i])\n",
    "\n",
    "for i in range(len(columns_have_nulls)):\n",
    "  fig.add_subplot(14,5,i+1)\n",
    "  plt.pie([train_data.isna().sum()[i],train_data.shape[0]],autopct = '%0.9f%%' , labels = [columns_have_nulls[i],'Train Data'])\n",
    "  plt.tight_layout()"
   ]
  },
  {
   "cell_type": "code",
   "execution_count": null,
   "metadata": {
    "execution": {
     "iopub.execute_input": "2023-09-07T11:39:55.984083Z",
     "iopub.status.busy": "2023-09-07T11:39:55.982154Z",
     "iopub.status.idle": "2023-09-07T11:40:48.150263Z",
     "shell.execute_reply": "2023-09-07T11:40:48.149334Z",
     "shell.execute_reply.started": "2023-09-07T11:39:55.984046Z"
    },
    "id": "uAd_vqC5dqte"
   },
   "outputs": [],
   "source": [
    "# show outlier\n",
    "fig  = plt.figure(figsize = (70,20))\n",
    "plt.suptitle('Data Outliers\\n\\n\\n' , ha = 'center' , fontsize = 100 , fontweight = 'bold')\n",
    "for i in range(1,len(train_data.columns)):\n",
    "  fig.add_subplot(5,15,i)\n",
    "  sns.boxplot(train_data , x = train_data.columns[i],color = 'red')\n",
    "  plt.tight_layout()\n",
    "plt.subplots_adjust(\n",
    "    wspace = 3\n",
    "    ,hspace = 0.6\n",
    ")"
   ]
  },
  {
   "cell_type": "code",
   "execution_count": null,
   "metadata": {
    "execution": {
     "iopub.execute_input": "2023-09-07T11:40:48.152422Z",
     "iopub.status.busy": "2023-09-07T11:40:48.151774Z",
     "iopub.status.idle": "2023-09-07T11:40:48.221457Z",
     "shell.execute_reply": "2023-09-07T11:40:48.220535Z",
     "shell.execute_reply.started": "2023-09-07T11:40:48.152385Z"
    },
    "id": "5A_pHR0vdqqr"
   },
   "outputs": [],
   "source": [
    "# split year\n",
    "data_year  = train_data.groupby(['year'])\n",
    "data_2019 = pd.DataFrame()\n",
    "data_2020 = pd.DataFrame()\n",
    "data_2021 = pd.DataFrame()\n",
    "for n , g in data_year:\n",
    " if(n == 2019):data_2019 = g\n",
    " elif (n == 2020):data_2020 = g\n",
    " else : data_2021 = g\n",
    "year_table = PrettyTable()\n",
    "year_table.field_names = ['Year','Data Shape','N_nulls']\n",
    "year_table.add_row(['2019',data_2019.shape ,data_2019.isna().sum().sum()])\n",
    "year_table.add_row(['-----------------------------','-----------------------------','-----------------------------'])\n",
    "year_table.add_row(['2020',data_2020.shape ,data_2020.isna().sum().sum()])\n",
    "year_table.add_row(['-----------------------------','-----------------------------','-----------------------------'])\n",
    "year_table.add_row(['2021',data_2021.shape ,data_2021.isna().sum().sum()])\n",
    "print(year_table)"
   ]
  },
  {
   "cell_type": "code",
   "execution_count": null,
   "metadata": {
    "execution": {
     "iopub.execute_input": "2023-09-07T11:40:48.223880Z",
     "iopub.status.busy": "2023-09-07T11:40:48.223100Z",
     "iopub.status.idle": "2023-09-07T11:40:48.379216Z",
     "shell.execute_reply": "2023-09-07T11:40:48.378223Z",
     "shell.execute_reply.started": "2023-09-07T11:40:48.223846Z"
    }
   },
   "outputs": [],
   "source": [
    "train_data['date'] = pd.to_datetime(train_data['year'].astype(str) + '-' + train_data['week_no'].astype(str) \n",
    "                                    + '-1', format='%Y-%W-%w')"
   ]
  },
  {
   "cell_type": "code",
   "execution_count": null,
   "metadata": {
    "execution": {
     "iopub.execute_input": "2023-09-07T11:40:48.381093Z",
     "iopub.status.busy": "2023-09-07T11:40:48.380611Z",
     "iopub.status.idle": "2023-09-07T11:40:48.898790Z",
     "shell.execute_reply": "2023-09-07T11:40:48.897810Z",
     "shell.execute_reply.started": "2023-09-07T11:40:48.381050Z"
    }
   },
   "outputs": [],
   "source": [
    "train_p = train_data.copy(deep = True)\n",
    "train_p.groupby(['date'])['emission'].sum().plot(kind='line', figsize=(20, 7), xlabel='Date')\n",
    "\n",
    "plt.axvspan(pd.Timestamp('2020-01-01'), pd.Timestamp('2021-01-01'), color='red', alpha=0.1)\n",
    "plt.axvline(pd.Timestamp('2020-01-01'), linestyle = \"--\", color='red')\n",
    "plt.axvline(pd.Timestamp('2021-01-01'), linestyle = \"--\", color='red')\n",
    "\n",
    "plt.text(pd.Timestamp ('2020-05-30'), 60000, \"Virus\", size = 20)\n",
    "\n",
    "plt.title('Emission by date', size=15, pad=10)\n",
    "plt.show()"
   ]
  },
  {
   "cell_type": "code",
   "execution_count": null,
   "metadata": {
    "execution": {
     "iopub.execute_input": "2023-09-07T11:40:48.901428Z",
     "iopub.status.busy": "2023-09-07T11:40:48.900367Z",
     "iopub.status.idle": "2023-09-07T11:40:49.109370Z",
     "shell.execute_reply": "2023-09-07T11:40:49.107889Z",
     "shell.execute_reply.started": "2023-09-07T11:40:48.901395Z"
    },
    "id": "e66y7h7Bdqj-"
   },
   "outputs": [],
   "source": [
    "# visualize null values\n",
    "plt.suptitle('Different Data Year Null Values' ,ha = 'center' , fontsize = 20 , fontweight = 'bold')\n",
    "plt.pie([data_2019.isna().sum().sum(),data_2020.isna().sum().sum(),data_2021.isna().sum().sum()],\n",
    "        labels = ['2019','2020','2021'],autopct = '%0.2f%%'  )"
   ]
  },
  {
   "cell_type": "code",
   "execution_count": null,
   "metadata": {
    "execution": {
     "iopub.execute_input": "2023-09-07T11:40:49.111937Z",
     "iopub.status.busy": "2023-09-07T11:40:49.111515Z",
     "iopub.status.idle": "2023-09-07T11:40:49.408987Z",
     "shell.execute_reply": "2023-09-07T11:40:49.407842Z",
     "shell.execute_reply.started": "2023-09-07T11:40:49.111900Z"
    },
    "id": "f2RUZQM1dqha"
   },
   "outputs": [],
   "source": [
    "# year with high emission\n",
    "plt.suptitle('High Emission of CO2', fontsize = 25 , fontweight ='bold' , ha = 'center')\n",
    "plt.bar(x = ['2019','2020','2021'] , height = [data_2019['emission'].max(),data_2020['emission'].max(),data_2021['emission'].max()],color = 'orange',\n",
    "        label = 'Number of Emission')\n",
    "plt.grid(True)\n",
    "plt.legend()"
   ]
  },
  {
   "cell_type": "markdown",
   "metadata": {},
   "source": [
    "# Feature Engineering & Data Preprocessing"
   ]
  },
  {
   "cell_type": "code",
   "execution_count": null,
   "metadata": {
    "execution": {
     "iopub.execute_input": "2023-09-07T11:40:49.410801Z",
     "iopub.status.busy": "2023-09-07T11:40:49.410362Z",
     "iopub.status.idle": "2023-09-07T11:40:49.522108Z",
     "shell.execute_reply": "2023-09-07T11:40:49.520972Z",
     "shell.execute_reply.started": "2023-09-07T11:40:49.410765Z"
    },
    "id": "1_V--VLRdqVt",
    "outputId": "2b367487-822d-4fd5-e93f-a6ad101ef1b6"
   },
   "outputs": [],
   "source": [
    "# Treat null values\n",
    "c_nulls = list(train_data.isna().sum())\n",
    "columns_delete = []\n",
    "for i in range(len(c_nulls)):\n",
    "  if(0 < c_nulls[i] <= 20000):\n",
    "     train_data.iloc[:,i].fillna(value = train_data.iloc[:,i].mean(),inplace = True)\n",
    "     print(f'Filled with mean :{train_data.columns[i]}')\n",
    "  elif(c_nulls[i] >20000):\n",
    "    columns_delete.append(train_data.columns[i])\n",
    "print(f'Need to delete :{columns_delete} \\nlength : {len(columns_delete)}')"
   ]
  },
  {
   "cell_type": "code",
   "execution_count": null,
   "metadata": {
    "execution": {
     "iopub.execute_input": "2023-09-07T11:40:49.524217Z",
     "iopub.status.busy": "2023-09-07T11:40:49.523813Z",
     "iopub.status.idle": "2023-09-07T11:40:49.586544Z",
     "shell.execute_reply": "2023-09-07T11:40:49.585589Z",
     "shell.execute_reply.started": "2023-09-07T11:40:49.524171Z"
    },
    "id": "5t38rsBgdqHX",
    "outputId": "8648921e-7f1b-4155-f3cc-e9e80a82a9e7"
   },
   "outputs": [],
   "source": [
    "c_nulls_t = list(test_data.isna().sum())\n",
    "columns_delete_t = []\n",
    "for i in range(len(c_nulls_t)):\n",
    "  if(0 < c_nulls_t[i] <= 20000):\n",
    "     test_data.iloc[:,i].fillna(value = test_data.iloc[:,i].mean(),inplace = True)\n",
    "     print(f'Filled with mean :{test_data.columns[i]}')\n",
    "  elif(c_nulls_t[i] >20000):\n",
    "    columns_delete_t.append(test_data.columns[i])\n",
    "print(f'Need to delete :{columns_delete_t} \\nlength : {len(columns_delete_t)}')"
   ]
  },
  {
   "cell_type": "code",
   "execution_count": null,
   "metadata": {
    "execution": {
     "iopub.execute_input": "2023-09-07T11:40:49.588738Z",
     "iopub.status.busy": "2023-09-07T11:40:49.588052Z",
     "iopub.status.idle": "2023-09-07T11:40:49.610940Z",
     "shell.execute_reply": "2023-09-07T11:40:49.609864Z",
     "shell.execute_reply.started": "2023-09-07T11:40:49.588685Z"
    },
    "id": "DJBUiyAkdqBg",
    "outputId": "0154c0c7-8b80-4147-9836-4088f70febbf"
   },
   "outputs": [],
   "source": [
    "# delete null features\n",
    "for i in range(len(columns_delete)):\n",
    "  del train_data[columns_delete[i]]\n",
    "  del test_data[columns_delete[i]]\n",
    "print(f'Train Shape : {train_data.shape}')\n",
    "print(f'Test Shape : {test_data.shape}')"
   ]
  },
  {
   "cell_type": "code",
   "execution_count": null,
   "metadata": {
    "execution": {
     "iopub.execute_input": "2023-09-07T11:40:49.613613Z",
     "iopub.status.busy": "2023-09-07T11:40:49.612856Z",
     "iopub.status.idle": "2023-09-07T11:40:49.690407Z",
     "shell.execute_reply": "2023-09-07T11:40:49.689377Z",
     "shell.execute_reply.started": "2023-09-07T11:40:49.613577Z"
    }
   },
   "outputs": [],
   "source": [
    "# handle corona year\n",
    "avg_emission_non_virus = train_data[train_data['year'].isin((2019,2021))].groupby('week_no')['emission'].mean()\n",
    "\n",
    "avg_emission_virus = train_data[train_data['year'] == 2020].groupby('week_no')['emission'].mean()\n",
    "\n",
    "ratios_for_weeks = avg_emission_non_virus/avg_emission_virus\n",
    "\n",
    "train_data.loc[train_data['year'] == 2020, 'emission'] *= train_data['week_no'].map(ratios_for_weeks)"
   ]
  },
  {
   "cell_type": "code",
   "execution_count": null,
   "metadata": {
    "execution": {
     "iopub.execute_input": "2023-09-07T11:40:49.692543Z",
     "iopub.status.busy": "2023-09-07T11:40:49.692171Z",
     "iopub.status.idle": "2023-09-07T11:40:50.223927Z",
     "shell.execute_reply": "2023-09-07T11:40:50.222948Z",
     "shell.execute_reply.started": "2023-09-07T11:40:49.692509Z"
    }
   },
   "outputs": [],
   "source": [
    "train_data.groupby(['date'])['emission'].sum().plot(kind='line', figsize=(20, 7), xlabel='Date')\n",
    "\n",
    "plt.axvspan(pd.Timestamp('2020-01-01'), pd.Timestamp('2021-01-01'), color='green', alpha=0.1)\n",
    "plt.axvline(pd.Timestamp('2020-01-01'), linestyle = \"--\", color='green')\n",
    "plt.axvline(pd.Timestamp('2021-01-01'), linestyle = \"--\", color='green')\n",
    "\n",
    "plt.text(pd.Timestamp('2020-05-22'), 62000, \"No virus\", size = 17)\n",
    "\n",
    "plt.title('Emission by date', size=15, pad=10)\n",
    "plt.show()"
   ]
  },
  {
   "cell_type": "code",
   "execution_count": null,
   "metadata": {
    "execution": {
     "iopub.execute_input": "2023-09-07T11:40:50.225992Z",
     "iopub.status.busy": "2023-09-07T11:40:50.225615Z",
     "iopub.status.idle": "2023-09-07T11:40:50.236107Z",
     "shell.execute_reply": "2023-09-07T11:40:50.235077Z",
     "shell.execute_reply.started": "2023-09-07T11:40:50.225959Z"
    }
   },
   "outputs": [],
   "source": [
    "# Let's fix the large spike in the last week of 2020. It's an outlier.\n",
    "train_data.loc[(train_data['week_no'] == 52) & (train_data['year'] == 2020), 'emission'] = np.power(train_data.loc[(train_data['week_no'] == 52) & (train_data['year'] == 2020), 'emission'], 1/1.5)"
   ]
  },
  {
   "cell_type": "code",
   "execution_count": null,
   "metadata": {
    "execution": {
     "iopub.execute_input": "2023-09-07T11:40:50.246684Z",
     "iopub.status.busy": "2023-09-07T11:40:50.246395Z",
     "iopub.status.idle": "2023-09-07T11:40:50.256042Z",
     "shell.execute_reply": "2023-09-07T11:40:50.255087Z",
     "shell.execute_reply.started": "2023-09-07T11:40:50.246660Z"
    }
   },
   "outputs": [],
   "source": [
    "train_data['holidays'] = (train_data['week_no'].isin([0, 51, 12, 30]))\n",
    "test_data['holidays'] = (test_data['week_no'].isin([0, 51, 12, 30]))"
   ]
  },
  {
   "cell_type": "code",
   "execution_count": null,
   "metadata": {
    "execution": {
     "iopub.execute_input": "2023-09-07T11:40:50.258134Z",
     "iopub.status.busy": "2023-09-07T11:40:50.257435Z",
     "iopub.status.idle": "2023-09-07T11:40:50.272449Z",
     "shell.execute_reply": "2023-09-07T11:40:50.271273Z",
     "shell.execute_reply.started": "2023-09-07T11:40:50.258097Z"
    }
   },
   "outputs": [],
   "source": [
    "train_data['week_sin'] = np.sin(2 * np.pi * train_data['week_no']/53)\n",
    "train_data['week_cos'] = np.cos(2 * np.pi * train_data['week_no']/53)\n",
    "\n",
    "test_data['week_sin'] = np.sin(2 * np.pi * test_data['week_no']/53)\n",
    "test_data['week_cos'] = np.cos(2 * np.pi * test_data['week_no']/53)"
   ]
  },
  {
   "cell_type": "code",
   "execution_count": null,
   "metadata": {
    "execution": {
     "iopub.execute_input": "2023-09-07T11:40:50.276528Z",
     "iopub.status.busy": "2023-09-07T11:40:50.275566Z",
     "iopub.status.idle": "2023-09-07T11:40:50.291231Z",
     "shell.execute_reply": "2023-09-07T11:40:50.290228Z",
     "shell.execute_reply.started": "2023-09-07T11:40:50.276495Z"
    }
   },
   "outputs": [],
   "source": [
    "train_data['rot_15_x'] = (np.cos(np.radians(15)) * train_data['longitude']) + (np.sin(np.radians(15)) * train_data['latitude'])\n",
    "\n",
    "train_data['rot_15_y'] = (np.cos(np.radians(15)) * train_data['latitude']) + (np.sin(np.radians(15)) * train_data['longitude'])\n",
    "\n",
    "train_data['rot_30_x'] = (np.cos(np.radians(30)) * train_data['longitude']) + (np.sin(np.radians(30)) * train_data['latitude'])\n",
    "\n",
    "train_data['rot_30_y'] = (np.cos(np.radians(30)) * train_data['latitude']) + (np.sin(np.radians(30)) * train_data['longitude'])"
   ]
  },
  {
   "cell_type": "code",
   "execution_count": null,
   "metadata": {
    "execution": {
     "iopub.execute_input": "2023-09-07T11:40:50.293292Z",
     "iopub.status.busy": "2023-09-07T11:40:50.292869Z",
     "iopub.status.idle": "2023-09-07T11:40:50.306891Z",
     "shell.execute_reply": "2023-09-07T11:40:50.305857Z",
     "shell.execute_reply.started": "2023-09-07T11:40:50.293259Z"
    }
   },
   "outputs": [],
   "source": [
    "test_data['rot_15_x'] = (np.cos(np.radians(15)) * test_data['longitude']) + (np.sin(np.radians(15)) * test_data['latitude'])\n",
    "\n",
    "test_data['rot_15_y'] = (np.cos(np.radians(15)) * test_data['latitude']) + (np.sin(np.radians(15)) * test_data['longitude'])\n",
    "\n",
    "test_data['rot_30_x'] = (np.cos(np.radians(30)) * test_data['longitude']) + (np.sin(np.radians(30)) * test_data['latitude'])\n",
    "\n",
    "test_data['rot_30_y'] = (np.cos(np.radians(30)) * test_data['latitude']) + (np.sin(np.radians(30)) * test_data['longitude'])"
   ]
  },
  {
   "cell_type": "code",
   "execution_count": null,
   "metadata": {
    "execution": {
     "iopub.execute_input": "2023-09-07T11:40:50.309310Z",
     "iopub.status.busy": "2023-09-07T11:40:50.308602Z",
     "iopub.status.idle": "2023-09-07T11:40:50.940925Z",
     "shell.execute_reply": "2023-09-07T11:40:50.939797Z",
     "shell.execute_reply.started": "2023-09-07T11:40:50.309278Z"
    }
   },
   "outputs": [],
   "source": [
    "train_coords = train_data.drop_duplicates(subset = ['latitude', 'longitude'])\n",
    "geometry = gpd.points_from_xy(train_coords['longitude'], train_coords['latitude'])\n",
    "geo_df = gpd.GeoDataFrame(train_coords[[\"latitude\", \"longitude\"]], geometry=geometry)\n",
    "\n",
    "all_data_map = folium.Map(prefer_canvas=True)\n",
    "geo_df_list = [[point.xy[1][0], point.xy[0][0]] for point in geo_df.geometry]\n",
    "\n",
    "def rgba_to_hex(color):\n",
    "    red, green, blue, alpha = color\n",
    "    return f\"#{int(red*255):02x}{int(green*255):02x}{int(blue*255):02x}\"\n",
    "\n",
    "temp = train_data.groupby(['latitude', 'longitude']).emission.mean().reset_index()\n",
    "geometry = gpd.points_from_xy(temp['longitude'], temp['latitude'])\n",
    "\n",
    "cmap = matplotlib.colormaps['coolwarm']\n",
    "normalizer = matplotlib.colors.Normalize(vmin=np.log1p(temp['emission'].min()), vmax=np.log1p(temp['emission'].max()))\n",
    "\n",
    "all_data_map = folium.Map(prefer_canvas=True)\n",
    "geo_df_list = [[point.xy[1][0], point.xy[0][0]] for point in geometry]\n",
    "\n",
    "for coordinates, emission in zip(geo_df_list, temp['emission']):\n",
    "    all_data_map.add_child(\n",
    "        folium.CircleMarker(\n",
    "            location=coordinates,\n",
    "            radius=1,\n",
    "            weight=4,\n",
    "            zoom=10,\n",
    "            color=rgba_to_hex(cmap(normalizer(np.log1p(emission))))),\n",
    "        )\n",
    "all_data_map.fit_bounds(all_data_map.get_bounds())\n",
    "\n",
    "rwanda_center = (-1.9607, 29.9707)\n",
    "park_biega = (-1.8866, 28.4518) \n",
    "kirumba = (-0.5658, 29.1714) \n",
    "massif = (-2.9677, 28.6469)\n",
    "lake = (-1.9277, 31.4346)\n",
    "mbarara = (-0.692, 30.602)\n",
    "muy = (-2.8374, 30.3346)\n",
    "\n",
    "for color, coors in zip(\n",
    "    ['red', 'blue', 'blue', 'blue', 'blue', 'blue', 'blue'], \n",
    "    [rwanda_center, park_biega, kirumba, massif, lake, mbarara, muy]\n",
    "):\n",
    "    all_data_map.add_child(\n",
    "        folium.features.CircleMarker(\n",
    "            coors, \n",
    "            radius=8,\n",
    "            color=color,\n",
    "            fill_color=color\n",
    "        )\n",
    "    )\n",
    "\n",
    "all_data_map"
   ]
  },
  {
   "cell_type": "code",
   "execution_count": null,
   "metadata": {
    "execution": {
     "iopub.execute_input": "2023-09-07T11:40:50.942993Z",
     "iopub.status.busy": "2023-09-07T11:40:50.942415Z",
     "iopub.status.idle": "2023-09-07T11:40:58.215897Z",
     "shell.execute_reply": "2023-09-07T11:40:58.214823Z",
     "shell.execute_reply.started": "2023-09-07T11:40:50.942959Z"
    }
   },
   "outputs": [],
   "source": [
    "df_mean = train_data.groupby('ID_LAT_LON_YEAR_WEEK', as_index=False)['emission'].mean()\n",
    "df_mean = df_mean.merge(train_data.drop_duplicates(subset=['ID_LAT_LON_YEAR_WEEK'])[['ID_LAT_LON_YEAR_WEEK', 'rot_15_x', 'rot_15_y', 'rot_30_x', 'rot_30_y']], on='ID_LAT_LON_YEAR_WEEK', how='left')\n",
    "df_mean['log_em'] = np.log1p(df_mean['emission'])\n",
    "\n",
    "fig = plt.figure(figsize=(15, 6))\n",
    "for i, col in enumerate(['15', '30']):\n",
    "    plt.subplot(1,2,i+1)\n",
    "    plt.title(\n",
    "        f'{col} degrees rotation', \n",
    "        size=20, \n",
    "        y=1.05, \n",
    "        fontname='Calibri', \n",
    "        color='#444444'\n",
    "    )\n",
    "    a = sns.scatterplot(\n",
    "        data=df_mean, \n",
    "        x=f'rot_{col}_x', \n",
    "        y=f'rot_{col}_y', \n",
    "        hue='log_em', \n",
    "        palette='coolwarm', \n",
    "        s=12\n",
    "    )\n",
    "    plt.xticks(size=9)\n",
    "    plt.yticks(size=9)\n",
    "    plt.xlabel(f'rot_{col}_latitude', labelpad=7, fontsize=11)\n",
    "    plt.ylabel(f'rot_{col}_longitude', labelpad=7, fontsize=11)\n",
    "\n",
    "    for j in ['right', 'top']:\n",
    "        a.spines[j].set_visible(False)\n",
    "    a.get_legend().remove()\n",
    "    \n",
    "plt.show()"
   ]
  },
  {
   "cell_type": "code",
   "execution_count": null,
   "metadata": {
    "execution": {
     "iopub.execute_input": "2023-09-07T11:40:58.218222Z",
     "iopub.status.busy": "2023-09-07T11:40:58.217154Z",
     "iopub.status.idle": "2023-09-07T11:40:58.223152Z",
     "shell.execute_reply": "2023-09-07T11:40:58.222098Z",
     "shell.execute_reply.started": "2023-09-07T11:40:58.218173Z"
    }
   },
   "outputs": [],
   "source": [
    "training_cols = ['latitude', 'longitude', 'year', 'week_sin', 'week_cos', 'holidays', 'rot_15_x', 'rot_15_y', 'rot_30_x', 'rot_30_y']"
   ]
  },
  {
   "cell_type": "code",
   "execution_count": null,
   "metadata": {
    "execution": {
     "iopub.execute_input": "2023-09-07T11:40:58.225176Z",
     "iopub.status.busy": "2023-09-07T11:40:58.224823Z",
     "iopub.status.idle": "2023-09-07T11:40:58.238044Z",
     "shell.execute_reply": "2023-09-07T11:40:58.237177Z",
     "shell.execute_reply.started": "2023-09-07T11:40:58.225134Z"
    }
   },
   "outputs": [],
   "source": [
    "train_x = train_data.loc[:,training_cols]\n",
    "train_y = train_data['emission']"
   ]
  },
  {
   "cell_type": "code",
   "execution_count": null,
   "metadata": {
    "execution": {
     "iopub.execute_input": "2023-09-07T11:40:58.240238Z",
     "iopub.status.busy": "2023-09-07T11:40:58.239753Z",
     "iopub.status.idle": "2023-09-07T11:40:58.324876Z",
     "shell.execute_reply": "2023-09-07T11:40:58.323892Z",
     "shell.execute_reply.started": "2023-09-07T11:40:58.240207Z"
    },
    "id": "czcZmdTMPE6B"
   },
   "outputs": [],
   "source": [
    "# Normalizing data\n",
    "\n",
    "train_x = MinMaxScaler().fit_transform(train_x)\n",
    "x_test = MinMaxScaler().fit_transform(test_data.loc[:,training_cols])\n",
    "\n",
    "\n",
    "train_x = pd.DataFrame(train_x ,columns =training_cols)\n",
    "x_test = pd.DataFrame(x_test ,columns = training_cols)"
   ]
  },
  {
   "cell_type": "code",
   "execution_count": null,
   "metadata": {
    "execution": {
     "iopub.execute_input": "2023-09-07T11:40:58.326780Z",
     "iopub.status.busy": "2023-09-07T11:40:58.326425Z",
     "iopub.status.idle": "2023-09-07T11:40:58.333606Z",
     "shell.execute_reply": "2023-09-07T11:40:58.332401Z",
     "shell.execute_reply.started": "2023-09-07T11:40:58.326744Z"
    }
   },
   "outputs": [],
   "source": [
    "train_x.shape"
   ]
  },
  {
   "cell_type": "code",
   "execution_count": null,
   "metadata": {
    "execution": {
     "iopub.execute_input": "2023-09-07T11:40:58.335493Z",
     "iopub.status.busy": "2023-09-07T11:40:58.335157Z",
     "iopub.status.idle": "2023-09-07T11:40:58.346782Z",
     "shell.execute_reply": "2023-09-07T11:40:58.345621Z",
     "shell.execute_reply.started": "2023-09-07T11:40:58.335463Z"
    }
   },
   "outputs": [],
   "source": [
    "train = pd.concat((train_x,train_y),axis = 1)"
   ]
  },
  {
   "cell_type": "code",
   "execution_count": null,
   "metadata": {
    "execution": {
     "iopub.execute_input": "2023-09-07T11:40:58.348818Z",
     "iopub.status.busy": "2023-09-07T11:40:58.348471Z",
     "iopub.status.idle": "2023-09-07T11:40:58.356853Z",
     "shell.execute_reply": "2023-09-07T11:40:58.355785Z",
     "shell.execute_reply.started": "2023-09-07T11:40:58.348786Z"
    }
   },
   "outputs": [],
   "source": [
    "x_test.shape"
   ]
  },
  {
   "cell_type": "code",
   "execution_count": null,
   "metadata": {
    "execution": {
     "iopub.execute_input": "2023-09-07T11:40:58.359224Z",
     "iopub.status.busy": "2023-09-07T11:40:58.358063Z",
     "iopub.status.idle": "2023-09-07T11:40:58.378538Z",
     "shell.execute_reply": "2023-09-07T11:40:58.376880Z",
     "shell.execute_reply.started": "2023-09-07T11:40:58.359187Z"
    }
   },
   "outputs": [],
   "source": [
    "train.head()"
   ]
  },
  {
   "cell_type": "markdown",
   "metadata": {
    "id": "VrBk-6qnldks"
   },
   "source": [
    "# Build Models"
   ]
  },
  {
   "cell_type": "code",
   "execution_count": null,
   "metadata": {
    "execution": {
     "iopub.execute_input": "2023-09-07T11:40:58.380344Z",
     "iopub.status.busy": "2023-09-07T11:40:58.379919Z",
     "iopub.status.idle": "2023-09-07T11:40:58.386819Z",
     "shell.execute_reply": "2023-09-07T11:40:58.385779Z",
     "shell.execute_reply.started": "2023-09-07T11:40:58.380314Z"
    },
    "id": "GSRNfNTpPEvi"
   },
   "outputs": [],
   "source": [
    "rfr = RandomForestRegressor(n_estimators = 250 , max_depth = 100 , random_state = 32)"
   ]
  },
  {
   "cell_type": "code",
   "execution_count": null,
   "metadata": {
    "execution": {
     "iopub.execute_input": "2023-09-07T11:40:58.389082Z",
     "iopub.status.busy": "2023-09-07T11:40:58.388620Z",
     "iopub.status.idle": "2023-09-07T11:40:58.396442Z",
     "shell.execute_reply": "2023-09-07T11:40:58.395514Z",
     "shell.execute_reply.started": "2023-09-07T11:40:58.389047Z"
    },
    "id": "b0Co1Zl4PEs5"
   },
   "outputs": [],
   "source": [
    "dtr = DecisionTreeRegressor(max_depth = 100 , random_state = 48)"
   ]
  },
  {
   "cell_type": "code",
   "execution_count": null,
   "metadata": {
    "execution": {
     "iopub.execute_input": "2023-09-07T11:40:58.398338Z",
     "iopub.status.busy": "2023-09-07T11:40:58.397878Z",
     "iopub.status.idle": "2023-09-07T11:40:58.406689Z",
     "shell.execute_reply": "2023-09-07T11:40:58.405742Z",
     "shell.execute_reply.started": "2023-09-07T11:40:58.398305Z"
    },
    "id": "ijL6IAAePEpB"
   },
   "outputs": [],
   "source": [
    "xgb = XGBRegressor(n_estimators = 250 , max_depth = 100 , learning_rate = 0.001 , random_state = 26)"
   ]
  },
  {
   "cell_type": "code",
   "execution_count": null,
   "metadata": {
    "execution": {
     "iopub.execute_input": "2023-09-07T11:40:58.408739Z",
     "iopub.status.busy": "2023-09-07T11:40:58.408321Z",
     "iopub.status.idle": "2023-09-07T11:40:58.416677Z",
     "shell.execute_reply": "2023-09-07T11:40:58.415691Z",
     "shell.execute_reply.started": "2023-09-07T11:40:58.408706Z"
    },
    "id": "re7wPO5Edp-4"
   },
   "outputs": [],
   "source": [
    "lgb = lgbm(learning_rate = 0.01 , random_state = 37)"
   ]
  },
  {
   "cell_type": "markdown",
   "metadata": {
    "id": "dagqvGd_m5Zy"
   },
   "source": [
    "# Train Models  & Evaluation"
   ]
  },
  {
   "cell_type": "code",
   "execution_count": null,
   "metadata": {
    "execution": {
     "iopub.execute_input": "2023-09-07T11:40:58.418755Z",
     "iopub.status.busy": "2023-09-07T11:40:58.418362Z",
     "iopub.status.idle": "2023-09-07T11:43:05.225160Z",
     "shell.execute_reply": "2023-09-07T11:43:05.224122Z",
     "shell.execute_reply.started": "2023-09-07T11:40:58.418721Z"
    },
    "id": "wghFjr2edp71",
    "outputId": "5174cbed-c212-48f6-ff9e-1ccf8930d3cd"
   },
   "outputs": [],
   "source": [
    "score_list = []\n",
    "kf = LeaveOneGroupOut()\n",
    "for fold, (idx_tr, idx_va) in enumerate(kf.split(train, groups=train.year)):\n",
    "    x_train = train.iloc[idx_tr,:-1]\n",
    "    y_train = train.iloc[idx_tr]['emission']\n",
    "    x_val = train.iloc[idx_va,:-1]\n",
    "    y_val = train.iloc[idx_va]['emission']\n",
    "\n",
    "    rfr.fit(x_train , y_train)\n",
    "    y_va_pred = rfr.predict(x_val)\n",
    "    rmse =np.sqrt(mean_squared_error(y_val, y_va_pred))\n",
    "    print(f\"Fold {fold} year {train.iloc[idx_va].year.iloc[0]}: rmse = {rmse:.2f}\")\n",
    "    score_list.append(rmse)\n",
    "\n",
    "rmse = sum(score_list) / len(score_list)\n",
    "print(f\"Overall RMSE: {rmse:.2f}\")"
   ]
  },
  {
   "cell_type": "code",
   "execution_count": null,
   "metadata": {
    "execution": {
     "iopub.execute_input": "2023-09-07T11:43:05.227147Z",
     "iopub.status.busy": "2023-09-07T11:43:05.226626Z",
     "iopub.status.idle": "2023-09-07T11:43:06.000714Z",
     "shell.execute_reply": "2023-09-07T11:43:05.999489Z",
     "shell.execute_reply.started": "2023-09-07T11:43:05.227112Z"
    },
    "id": "dqoFXcGbm79_",
    "outputId": "bd765536-c7a9-4303-f452-dd0a0b961bac"
   },
   "outputs": [],
   "source": [
    "score_list = []\n",
    "kf = LeaveOneGroupOut()\n",
    "for fold, (idx_tr, idx_va) in enumerate(kf.split(train, groups=train.year)):\n",
    "    x_train = train.iloc[idx_tr,:-1]\n",
    "    y_train = train.iloc[idx_tr]['emission']\n",
    "    x_val = train.iloc[idx_va,:-1]\n",
    "    y_val = train.iloc[idx_va]['emission']\n",
    "\n",
    "    dtr.fit(x_train , y_train)\n",
    "    y_va_pred = dtr.predict(x_val)\n",
    "    rmse =np.sqrt(mean_squared_error(y_val, y_va_pred))\n",
    "    print(f\"Fold {fold} year {train.iloc[idx_va].year.iloc[0]}: rmse = {rmse:.2f}\")\n",
    "    score_list.append(rmse)\n",
    "\n",
    "rmse = sum(score_list) / len(score_list)\n",
    "print(f\"Overall RMSE: {rmse:.2f}\")"
   ]
  },
  {
   "cell_type": "code",
   "execution_count": null,
   "metadata": {
    "execution": {
     "iopub.execute_input": "2023-09-07T11:43:06.002647Z",
     "iopub.status.busy": "2023-09-07T11:43:06.002160Z",
     "iopub.status.idle": "2023-09-07T11:44:41.632930Z",
     "shell.execute_reply": "2023-09-07T11:44:41.632152Z",
     "shell.execute_reply.started": "2023-09-07T11:43:06.002614Z"
    },
    "id": "IFCyA7ctm77U",
    "outputId": "34e9fb3d-899e-4d0c-a2a8-e4d6ed9e76d4"
   },
   "outputs": [],
   "source": [
    "score_list = []\n",
    "kf = LeaveOneGroupOut()\n",
    "for fold, (idx_tr, idx_va) in enumerate(kf.split(train, groups=train.year)):\n",
    "    x_train = train.iloc[idx_tr,:-1]\n",
    "    y_train = train.iloc[idx_tr]['emission']\n",
    "    x_val = train.iloc[idx_va,:-1]\n",
    "    y_val = train.iloc[idx_va]['emission']\n",
    "\n",
    "    xgb.fit(x_train , y_train)\n",
    "    y_va_pred = xgb.predict(x_val)\n",
    "    rmse =np.sqrt(mean_squared_error(y_val, y_va_pred))\n",
    "    print(f\"Fold {fold} year {train.iloc[idx_va].year.iloc[0]}: rmse = {rmse:.2f}\")\n",
    "    score_list.append(rmse)\n",
    "\n",
    "rmse = sum(score_list) / len(score_list)\n",
    "print(f\"Overall RMSE: {rmse:.2f}\")"
   ]
  },
  {
   "cell_type": "code",
   "execution_count": null,
   "metadata": {
    "execution": {
     "iopub.execute_input": "2023-09-07T11:44:41.638309Z",
     "iopub.status.busy": "2023-09-07T11:44:41.636255Z",
     "iopub.status.idle": "2023-09-07T11:44:43.325101Z",
     "shell.execute_reply": "2023-09-07T11:44:43.323887Z",
     "shell.execute_reply.started": "2023-09-07T11:44:41.638279Z"
    },
    "id": "hUFqwHBdm74s",
    "outputId": "a9825811-7a01-4d37-9087-d8afe60d2c4a"
   },
   "outputs": [],
   "source": [
    "score_list = []\n",
    "kf = LeaveOneGroupOut()\n",
    "for fold, (idx_tr, idx_va) in enumerate(kf.split(train, groups=train.year)):\n",
    "    x_train = train.iloc[idx_tr,:-1]\n",
    "    y_train = train.iloc[idx_tr]['emission']\n",
    "    x_val = train.iloc[idx_va,:-1]\n",
    "    y_val = train.iloc[idx_va]['emission']\n",
    "\n",
    "    lgb.fit(x_train , y_train)\n",
    "    y_va_pred = lgb.predict(x_val)\n",
    "    rmse =np.sqrt(mean_squared_error(y_val, y_va_pred))\n",
    "    print(f\"Fold {fold} year {train.iloc[idx_va].year.iloc[0]}: rmse = {rmse:.2f}\")\n",
    "    score_list.append(rmse)\n",
    "\n",
    "rmse = sum(score_list) / len(score_list)\n",
    "print(f\"Overall RMSE: {rmse:.2f}\")"
   ]
  },
  {
   "cell_type": "code",
   "execution_count": null,
   "metadata": {
    "execution": {
     "iopub.execute_input": "2023-09-07T11:44:43.330524Z",
     "iopub.status.busy": "2023-09-07T11:44:43.328643Z",
     "iopub.status.idle": "2023-09-07T11:44:43.364698Z",
     "shell.execute_reply": "2023-09-07T11:44:43.363875Z",
     "shell.execute_reply.started": "2023-09-07T11:44:43.330493Z"
    },
    "id": "ZMEnHtbJn2o1"
   },
   "outputs": [],
   "source": [
    "output = pd.read_csv('/kaggle/input/playground-series-s3e20/sample_submission.csv')"
   ]
  },
  {
   "cell_type": "code",
   "execution_count": null,
   "metadata": {
    "execution": {
     "iopub.execute_input": "2023-09-07T11:44:43.366462Z",
     "iopub.status.busy": "2023-09-07T11:44:43.365900Z",
     "iopub.status.idle": "2023-09-07T11:44:44.237930Z",
     "shell.execute_reply": "2023-09-07T11:44:44.236758Z",
     "shell.execute_reply.started": "2023-09-07T11:44:43.366429Z"
    },
    "id": "VAUxbT-sEuby",
    "outputId": "8ccb88d4-39fa-4d37-f750-33f235d659b1"
   },
   "outputs": [],
   "source": [
    "rfr.predict(x_test)"
   ]
  },
  {
   "cell_type": "code",
   "execution_count": null,
   "metadata": {
    "execution": {
     "iopub.execute_input": "2023-09-07T11:44:44.239946Z",
     "iopub.status.busy": "2023-09-07T11:44:44.239531Z",
     "iopub.status.idle": "2023-09-07T11:44:45.110868Z",
     "shell.execute_reply": "2023-09-07T11:44:45.109867Z",
     "shell.execute_reply.started": "2023-09-07T11:44:44.239913Z"
    },
    "id": "IxRNqhnYn2l6"
   },
   "outputs": [],
   "source": [
    "output['emission'] = rfr.predict(x_test)"
   ]
  },
  {
   "cell_type": "code",
   "execution_count": null,
   "metadata": {
    "execution": {
     "iopub.execute_input": "2023-09-07T11:44:45.112753Z",
     "iopub.status.busy": "2023-09-07T11:44:45.112138Z",
     "iopub.status.idle": "2023-09-07T11:44:45.226232Z",
     "shell.execute_reply": "2023-09-07T11:44:45.225324Z",
     "shell.execute_reply.started": "2023-09-07T11:44:45.112720Z"
    },
    "id": "ngI9EYjHn2jT"
   },
   "outputs": [],
   "source": [
    "output.to_csv('ouput.csv',index = False)"
   ]
  }
 ],
 "metadata": {
  "kernelspec": {
   "display_name": "Python 3 (ipykernel)",
   "language": "python",
   "name": "python3"
  },
  "language_info": {
   "codemirror_mode": {
    "name": "ipython",
    "version": 3
   },
   "file_extension": ".py",
   "mimetype": "text/x-python",
   "name": "python",
   "nbconvert_exporter": "python",
   "pygments_lexer": "ipython3",
   "version": "3.11.4"
  }
 },
 "nbformat": 4,
 "nbformat_minor": 4
}
